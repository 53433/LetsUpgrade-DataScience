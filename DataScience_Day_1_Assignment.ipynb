{
  "nbformat": 4,
  "nbformat_minor": 0,
  "metadata": {
    "colab": {
      "name": "DataScience Day 1 Assignment.ipynb",
      "provenance": [],
      "collapsed_sections": []
    },
    "kernelspec": {
      "name": "python3",
      "display_name": "Python 3"
    }
  },
  "cells": [
    {
      "cell_type": "code",
      "metadata": {
        "id": "qJWn5YW-uX0g"
      },
      "source": [
        "Question 1:\n",
        "Given the following jumbled word, OBANWRI guess the correct English word.\n",
        "\n",
        "Answer B\n"
      ],
      "execution_count": null,
      "outputs": []
    },
    {
      "cell_type": "code",
      "metadata": {
        "id": "Qc9eVFOUCXSK",
        "outputId": "bd350e0b-108b-4407-8605-2ff099ccb46c",
        "colab": {
          "base_uri": "https://localhost:8080/"
        }
      },
      "source": [
        "print(\"Given the following jumbled word, OBANWRI \\n\\nGuess the correct English word from the options given bellow! \\nA. RANIBOW \\nB. RAINBOW \\nC. BOWRANI \\nD. ROBWANI\")\n",
        "guessed_word = input(\"Enter any one of the options:(in caps only)\\n\")\n",
        "answer = \"RAINBOW\"\n",
        "jumbled_word = \"OBANWRI\"\n",
        "if guessed_word == answer:\n",
        "    print(answer)\n",
        "else:\n",
        "    print(\"Wrong answer\")"
      ],
      "execution_count": 5,
      "outputs": [
        {
          "output_type": "stream",
          "text": [
            "Given the following jumbled word, OBANWRI \n",
            "\n",
            "Guess the correct English word from the options given bellow! \n",
            "A. RANIBOW \n",
            "B. RAINBOW \n",
            "C. BOWRANI \n",
            "D. ROBWANI\n",
            "Enter any one of the options:(in caps only)\n",
            "RAINBOW\n",
            "RAINBOW\n"
          ],
          "name": "stdout"
        }
      ]
    },
    {
      "cell_type": "code",
      "metadata": {
        "id": "UQvynLKM8G9L"
      },
      "source": [
        "Question 2:\n",
        "Write a program which prints “LETS UPGRADE”. (Please note that you have to\n",
        "print in ALL CAPS as given)"
      ],
      "execution_count": null,
      "outputs": []
    },
    {
      "cell_type": "code",
      "metadata": {
        "id": "w_OikJGn8OWH",
        "outputId": "1bb2602e-2886-4954-8473-fd03c2293c50",
        "colab": {
          "base_uri": "https://localhost:8080/"
        }
      },
      "source": [
        "print(\"LETS UPGRADE\")"
      ],
      "execution_count": null,
      "outputs": [
        {
          "output_type": "stream",
          "text": [
            "LETS UPGRADE\n"
          ],
          "name": "stdout"
        }
      ]
    },
    {
      "cell_type": "code",
      "metadata": {
        "id": "ufA7GwSq8os8"
      },
      "source": [
        "Question 3:\n",
        "\n",
        "Write a program that takes cost price and selling price as input and displays whether the transaction is a\n",
        "Profit or a Loss or Neither."
      ],
      "execution_count": null,
      "outputs": []
    },
    {
      "cell_type": "code",
      "metadata": {
        "id": "ju-fvKNf8vW7",
        "outputId": "d1211238-69e6-43e4-e836-0786aac385b6",
        "colab": {
          "base_uri": "https://localhost:8080/"
        }
      },
      "source": [
        "x=input(\"cost price:\")\n",
        "y=input('selling price:')\n",
        "\n",
        "if x<y:\n",
        "    print(\"profit\")\n",
        "elif x>y:\n",
        "    print(\"loss\")\n",
        "else:\n",
        "    print(\"neither profit nor loss\")\n"
      ],
      "execution_count": 6,
      "outputs": [
        {
          "output_type": "stream",
          "text": [
            "cost price:1000\n",
            "selling price:1999\n",
            "profit\n"
          ],
          "name": "stdout"
        }
      ]
    },
    {
      "cell_type": "code",
      "metadata": {
        "id": "w9Utw0SD7-X8"
      },
      "source": [
        "Question 4:\n",
        "Write a program that takes an amount in Indian Rupees as input. You need to find its equivalent in Euro and display it.\n",
        "Assume 1 Euro equals Rs. 80."
      ],
      "execution_count": null,
      "outputs": []
    },
    {
      "cell_type": "code",
      "metadata": {
        "id": "piljgZK0Dpu8",
        "outputId": "45303b1d-8c36-40eb-b422-529ed2b30a4e",
        "colab": {
          "base_uri": "https://localhost:8080/"
        }
      },
      "source": [
        "amt_in_rs = int(input())\n",
        "amt_in_euro = amt_in_rs * 80\n",
        "print(amt_in_euro)"
      ],
      "execution_count": 7,
      "outputs": [
        {
          "output_type": "stream",
          "text": [
            "20\n",
            "1600\n"
          ],
          "name": "stdout"
        }
      ]
    },
    {
      "cell_type": "code",
      "metadata": {
        "id": "P81z-jy570Bp"
      },
      "source": [
        ""
      ],
      "execution_count": null,
      "outputs": []
    }
  ]
}