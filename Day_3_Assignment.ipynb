{
  "nbformat": 4,
  "nbformat_minor": 0,
  "metadata": {
    "colab": {
      "name": "Day 3 Assignment.ipynb",
      "provenance": [],
      "collapsed_sections": []
    },
    "kernelspec": {
      "name": "python3",
      "display_name": "Python 3"
    }
  },
  "cells": [
    {
      "cell_type": "code",
      "metadata": {
        "id": "shSFyt-HDAfN"
      },
      "source": [
        "#Questions 1:\n",
        "Create a numpy array starting from 2 till 50 with a stepsize of 3."
      ],
      "execution_count": null,
      "outputs": []
    },
    {
      "cell_type": "code",
      "metadata": {
        "id": "i08bxWYnDLbq"
      },
      "source": [
        "import numpy as np"
      ],
      "execution_count": null,
      "outputs": []
    },
    {
      "cell_type": "code",
      "metadata": {
        "id": "ql839R-eDrJT",
        "outputId": "c6584c9a-9f4c-432d-83c2-da775208a19a",
        "colab": {
          "base_uri": "https://localhost:8080/"
        }
      },
      "source": [
        "np.arange(start=2, stop=50, step=3)"
      ],
      "execution_count": null,
      "outputs": [
        {
          "output_type": "execute_result",
          "data": {
            "text/plain": [
              "array([ 2,  5,  8, 11, 14, 17, 20, 23, 26, 29, 32, 35, 38, 41, 44, 47])"
            ]
          },
          "metadata": {
            "tags": []
          },
          "execution_count": 3
        }
      ]
    },
    {
      "cell_type": "code",
      "metadata": {
        "id": "vkK9fjVtEE_Z"
      },
      "source": [
        "#Questions 2:\n",
        "Accept two lists of 5 elements each from the user.\n",
        "Convert them to numpy arrays. Concatenate these arrays and print it. Also sort these arrays and print it."
      ],
      "execution_count": null,
      "outputs": []
    },
    {
      "cell_type": "code",
      "metadata": {
        "id": "NrgpjRXiGaJM",
        "outputId": "ca46594e-e5f6-4255-9457-3ef2b8b4044b",
        "colab": {
          "base_uri": "https://localhost:8080/"
        }
      },
      "source": [
        "import numpy as np\n",
        "list1=[]\n",
        "list2=[]\n",
        "for i in range(5):\n",
        "    number1 = int(input())\n",
        "    number2 = int(input())\n",
        "    list1.append(number1)\n",
        "    list2.append(number2)\n",
        "    array1=np.array(list1)\n",
        "    array2= np.array(list2)\n",
        "    array3=array1+array2\n",
        "\n",
        "print(array3)\n",
        "print(np.sort(array3))"
      ],
      "execution_count": 14,
      "outputs": [
        {
          "output_type": "stream",
          "text": [
            "23\n",
            "1\n",
            "45\n",
            "2\n",
            "67\n",
            "3\n",
            "89\n",
            "56\n",
            "78\n",
            "56\n",
            "[ 24  47  70 145 134]\n",
            "[ 24  47  70 134 145]\n"
          ],
          "name": "stdout"
        }
      ]
    },
    {
      "cell_type": "code",
      "metadata": {
        "id": "gZCB1ANuGcEL"
      },
      "source": [
        "#Question 3:\n",
        "Write a code snippet to find the dimensions of a ndarray and its size."
      ],
      "execution_count": null,
      "outputs": []
    },
    {
      "cell_type": "code",
      "metadata": {
        "id": "zF58CmPGGiMh",
        "outputId": "ff46e4a7-1d31-45e4-a9a9-b9cc5feecf5d",
        "colab": {
          "base_uri": "https://localhost:8080/"
        }
      },
      "source": [
        "arr = np.array( [[ 1, 2, 3],\n",
        "                 [ 4, 2, 5]] )\n",
        "print(\"No. of dimensions: \", arr.ndim)\n",
        "print(\"Size of array: \", arr.size)\n"
      ],
      "execution_count": null,
      "outputs": [
        {
          "output_type": "stream",
          "text": [
            "No. of dimensions:  2\n",
            "Size of array:  6\n"
          ],
          "name": "stdout"
        }
      ]
    },
    {
      "cell_type": "code",
      "metadata": {
        "id": "kyo0j56sG5wA"
      },
      "source": [
        "#Questions 4:\n",
        "How to convert a 1D array into a 2D array? Demonstrate with the help of a code snippet\n",
        "Hint: np.newaxis, np.expand_dims"
      ],
      "execution_count": null,
      "outputs": []
    },
    {
      "cell_type": "code",
      "metadata": {
        "id": "6Av2Jr-eHAeR",
        "outputId": "d8ec1e11-cebe-4529-a4fa-d894cdc254d4",
        "colab": {
          "base_uri": "https://localhost:8080/"
        }
      },
      "source": [
        "import numpy as np\n",
        "\n",
        "arr = np.array([1, 2, 3, 4, 5, 6, 7, 8, 9, 10, 11, 12])\n",
        "\n",
        "newarr = arr.reshape(4, 3)\n",
        "\n",
        "print(newarr)"
      ],
      "execution_count": null,
      "outputs": [
        {
          "output_type": "stream",
          "text": [
            "[[ 1  2  3]\n",
            " [ 4  5  6]\n",
            " [ 7  8  9]\n",
            " [10 11 12]]\n"
          ],
          "name": "stdout"
        }
      ]
    },
    {
      "cell_type": "code",
      "metadata": {
        "id": "4hCaJSW0H9Vs"
      },
      "source": [
        "#Questions 5:\n",
        "Consider two square numpy arrays. Stack them vertically and horizontally.\n",
        "Hint: Use vstack(), hstack()"
      ],
      "execution_count": null,
      "outputs": []
    },
    {
      "cell_type": "code",
      "metadata": {
        "id": "TXDRKpIHIFeE",
        "outputId": "7bd333af-38fc-404e-d68a-5c8b3c713d6b",
        "colab": {
          "base_uri": "https://localhost:8080/"
        }
      },
      "source": [
        "import numpy as np \n",
        "  \n",
        "a = np.array([[1, 2], \n",
        "              [3, 4]]) \n",
        "  \n",
        "b = np.array([[5, 6], \n",
        "              [7, 8]]) \n",
        "  \n",
        "# vertical stacking \n",
        "print(\"Vertical stacking:\\n\", np.vstack((a, b))) \n",
        "  \n",
        "# horizontal stacking \n",
        "print(\"\\nHorizontal stacking:\\n\", np.hstack((a, b))) "
      ],
      "execution_count": null,
      "outputs": [
        {
          "output_type": "stream",
          "text": [
            "Vertical stacking:\n",
            " [[1 2]\n",
            " [3 4]\n",
            " [5 6]\n",
            " [7 8]]\n",
            "\n",
            "Horizontal stacking:\n",
            " [[1 2 5 6]\n",
            " [3 4 7 8]]\n"
          ],
          "name": "stdout"
        }
      ]
    },
    {
      "cell_type": "code",
      "metadata": {
        "id": "ATwb5URTIx2R"
      },
      "source": [
        "#Questions 6:\n",
        "How to get unique items and counts of unique items\n"
      ],
      "execution_count": null,
      "outputs": []
    },
    {
      "cell_type": "code",
      "metadata": {
        "id": "K1EJXlcaI5F0",
        "outputId": "a55b6b0a-8aa2-4d6c-ad1f-74789e6b3f09",
        "colab": {
          "base_uri": "https://localhost:8080/"
        }
      },
      "source": [
        "import numpy as np\n",
        "arr=np.array([11, 11, 12, 13, 14, 15, 16, 17, 12, 13, 11, 14, 18])\n",
        "print('Original Numpy Array : ' , arr)\n",
        "\n",
        "uniqueValues, occurCount = np.unique(arr, return_counts=True)\n",
        "print(\"Unique Values : \" , uniqueValues)\n",
        "print(\"Occurrence Count : \", occurCount)"
      ],
      "execution_count": 15,
      "outputs": [
        {
          "output_type": "stream",
          "text": [
            "Original Numpy Array :  [11 11 12 13 14 15 16 17 12 13 11 14 18]\n",
            "Unique Values :  [11 12 13 14 15 16 17 18]\n",
            "Occurrence Count :  [3 2 2 2 1 1 1 1]\n"
          ],
          "name": "stdout"
        }
      ]
    }
  ]
}