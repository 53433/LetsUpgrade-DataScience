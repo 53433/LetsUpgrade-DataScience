{
  "nbformat": 4,
  "nbformat_minor": 0,
  "metadata": {
    "colab": {
      "name": "Day2 DataScience Assignment.ipynb",
      "provenance": [],
      "collapsed_sections": []
    },
    "kernelspec": {
      "name": "python3",
      "display_name": "Python 3"
    }
  },
  "cells": [
    {
      "cell_type": "code",
      "metadata": {
        "id": "ePsIwegOCGtG"
      },
      "source": [
        "#Questions 1:\n",
        "#Create an empty list. Accept 10 numbers from the user and append to it the list if it is an even number."
      ],
      "execution_count": null,
      "outputs": []
    },
    {
      "cell_type": "code",
      "metadata": {
        "id": "ltzlQOKXDZ9k",
        "outputId": "6f8c15c5-e594-42c3-d412-1bda51901817",
        "colab": {
          "base_uri": "https://localhost:8080/"
        }
      },
      "source": [
        "my_list = []\n",
        "for i in range(10):\n",
        "    num = int(input(\"Enter number \" + str(i+1) + \" : \"))\n",
        "    if(num%2 == 0):\n",
        "        my_list.append(num)\n",
        "print(\" \")       \n",
        "print(\"Final List:\")\n",
        "print(my_list)"
      ],
      "execution_count": null,
      "outputs": [
        {
          "output_type": "stream",
          "text": [
            "Enter number 1 : 2\n",
            "Enter number 2 : 4\n",
            "Enter number 3 : 6\n",
            "Enter number 4 : 8\n",
            "Enter number 5 : 10\n",
            "Enter number 6 : 12\n",
            "Enter number 7 : 15\n",
            "Enter number 8 : 56\n",
            "Enter number 9 : 78\n",
            "Enter number 10 : 87\n",
            " \n",
            "Final List:\n",
            "[2, 4, 6, 8, 10, 12, 56, 78]\n"
          ],
          "name": "stdout"
        }
      ]
    },
    {
      "cell_type": "code",
      "metadata": {
        "id": "mxVetALSENHb"
      },
      "source": [
        "#Questions 2:\n",
        "#Create a notebook on LIST COMPREHENSION. This exercise is to put you in a Self learning mode"
      ],
      "execution_count": null,
      "outputs": []
    },
    {
      "cell_type": "code",
      "metadata": {
        "id": "Vi7SVte8Em8U",
        "outputId": "d1a3db83-e842-4827-b295-678331546a29",
        "colab": {
          "base_uri": "https://localhost:8080/"
        }
      },
      "source": [
        "word = [letter for letter in 'NehaPasrija' ]\n",
        "print(word)\n",
        "\n",
        "name = list(map(lambda x: x, 'Neha_Pasrija'))\n",
        "print(name)\n",
        "\n",
        "numbers = [x for x in range(20) if x % 3 == 0]\n",
        "print(numbers)"
      ],
      "execution_count": null,
      "outputs": [
        {
          "output_type": "stream",
          "text": [
            "['N', 'e', 'h', 'a', 'P', 'a', 's', 'r', 'i', 'j', 'a']\n",
            "['N', 'e', 'h', 'a', '_', 'P', 'a', 's', 'r', 'i', 'j', 'a']\n",
            "[0, 3, 6, 9, 12, 15, 18]\n"
          ],
          "name": "stdout"
        }
      ]
    },
    {
      "cell_type": "code",
      "metadata": {
        "id": "eAqOKuf2E3_7"
      },
      "source": [
        "#Questions 3:\n",
        "#You have seen in the videos how powerful dictionary data structure is.\n",
        "#In this assignment, given a number n, you have to \n",
        "#write a program that generates a dictionary d which contains (i, i*i), where i is from 1 to n (both included). \n",
        "#Then you have to just print this dictionary d. Example: Input: 4 will give output as {1: 1, 2: 4, 3: 9, 4: 16} \n",
        "#Input Format: Take the number n in a single line. Output Format: Print the dictionary d in a single line."
      ],
      "execution_count": null,
      "outputs": []
    },
    {
      "cell_type": "code",
      "metadata": {
        "id": "msSxrA6oE73k",
        "outputId": "db651b15-e585-459d-c9a4-f08608ef212b",
        "colab": {
          "base_uri": "https://localhost:8080/"
        }
      },
      "source": [
        "number = int(input())\n",
        "dictionary = {a:a*a for a in range(1,number+1)}\n",
        "print(dictionary)"
      ],
      "execution_count": null,
      "outputs": [
        {
          "output_type": "stream",
          "text": [
            "6\n",
            "{1: 1, 2: 4, 3: 9, 4: 16, 5: 25, 6: 36}\n"
          ],
          "name": "stdout"
        }
      ]
    },
    {
      "cell_type": "code",
      "metadata": {
        "id": "uRiMPNhKFtUw"
      },
      "source": [
        "#Question 4\n",
        "#There is a robot which wants to go the charging point to charge itself.\n",
        "#The robot moves in a 2-D plane from the original point (0,0).\n",
        "#The robot can move toward UP, DOWN, LEFT and RIGHT with given steps. \n",
        "#The trace of robot movement is shown as the following: UP 5 DOWN 3 LEFT 3 RIGHT 2 \n",
        "#Then, the output of the program should be: \n",
        "#2 The numbers after the direction are steps.\n",
        "#Write a program to compute the distance between the current position after a sequence of movement and original point.\n",
        "#If the distance is a float, then just print the nearest integer (use round() function for that and then convert it into an integer).\n",
        "#Input Format: The first line of the input contains a number n which implies the number of directions to be given. \n",
        "#The next n lines contain the direction and the step separated by a space. Output Format: Print the distance from the original position to the current position."
      ],
      "execution_count": null,
      "outputs": []
    },
    {
      "cell_type": "code",
      "metadata": {
        "id": "evPvGGqiFzce",
        "outputId": "dec84868-2d28-4757-9986-c76a9b6bb6b8",
        "colab": {
          "base_uri": "https://localhost:8080/"
        }
      },
      "source": [
        "import math\n",
        "\n",
        "directions = int(input())\n",
        "x, y = 0, 0 #initially at (0,0)\n",
        "x1, y1 = 0, 0\n",
        "for i in range(directions):\n",
        "    way, steps = map(str, input().strip().split(' '))\n",
        "    if(way == 'UP'):\n",
        "        y1 += int(steps)\n",
        "    elif (way == 'DOWN'):\n",
        "        y1 -= int(steps)\n",
        "    elif(way == 'LEFT'):\n",
        "        x1 -= int(steps)\n",
        "    elif(way == 'RIGHT'):\n",
        "        x1 += int(steps)\n",
        "\n",
        "#distance formula = sqrt((x1-x0)**2 + (y1-y)**2)\n",
        "print(round(math.sqrt((x1**2) + (y1**2))))"
      ],
      "execution_count": null,
      "outputs": [
        {
          "output_type": "stream",
          "text": [
            "4\n",
            "UP 5\n",
            "DOWN 3\n",
            "LEFT 3\n",
            "RIGHT 2\n",
            "2\n"
          ],
          "name": "stdout"
        }
      ]
    }
  ]
}